{
 "cells": [
  {
   "cell_type": "code",
   "execution_count": 2,
   "metadata": {
    "colab": {
     "base_uri": "https://localhost:8080/"
    },
    "executionInfo": {
     "elapsed": 3186,
     "status": "ok",
     "timestamp": 1644634190485,
     "user": {
      "displayName": "Bhushan Garware",
      "photoUrl": "https://lh3.googleusercontent.com/a-/AOh14GjXuSog7Cx1rVSdt9aeNCrIxrJKLl3o6RA4rdXXlw=s64",
      "userId": "11429247748564512795"
     },
     "user_tz": -330
    },
    "id": "cEL6Qw0mwovk",
    "outputId": "67cfed70-dcff-4b96-cb56-e85022db6c8c"
   },
   "outputs": [
    {
     "name": "stdout",
     "output_type": "stream",
     "text": [
      "Drive already mounted at /content/drive/; to attempt to forcibly remount, call drive.mount(\"/content/drive/\", force_remount=True).\n"
     ]
    }
   ],
   "source": [
    "#Mount Gdrive \n",
    "from google.colab import drive\n",
    "drive.mount('/content/drive/')"
   ]
  },
  {
   "cell_type": "code",
   "execution_count": 3,
   "metadata": {
    "colab": {
     "base_uri": "https://localhost:8080/"
    },
    "executionInfo": {
     "elapsed": 548,
     "status": "ok",
     "timestamp": 1644634192317,
     "user": {
      "displayName": "Bhushan Garware",
      "photoUrl": "https://lh3.googleusercontent.com/a-/AOh14GjXuSog7Cx1rVSdt9aeNCrIxrJKLl3o6RA4rdXXlw=s64",
      "userId": "11429247748564512795"
     },
     "user_tz": -330
    },
    "id": "oQhfyGZbwsIO",
    "outputId": "57f04d3a-6a0f-43dc-f145-c8931bf90622"
   },
   "outputs": [
    {
     "name": "stdout",
     "output_type": "stream",
     "text": [
      "/content/drive/My Drive/ML_Cluster\n"
     ]
    }
   ],
   "source": [
    "#Set current working directory\n",
    "%cd /content/drive/My Drive/ML_Cluster/"
   ]
  },
  {
   "cell_type": "code",
   "execution_count": 4,
   "metadata": {
    "executionInfo": {
     "elapsed": 958,
     "status": "ok",
     "timestamp": 1644634194649,
     "user": {
      "displayName": "Bhushan Garware",
      "photoUrl": "https://lh3.googleusercontent.com/a-/AOh14GjXuSog7Cx1rVSdt9aeNCrIxrJKLl3o6RA4rdXXlw=s64",
      "userId": "11429247748564512795"
     },
     "user_tz": -330
    },
    "id": "JUCoWbAnw1sa"
   },
   "outputs": [],
   "source": [
    "#import the libraries required\n",
    "import numpy as np\n",
    "import pandas as pd\n",
    "import nltk\n",
    "from sklearn.feature_extraction.text import CountVectorizer, TfidfTransformer\n",
    "from sklearn.neighbors import KDTree"
   ]
  },
  {
   "cell_type": "code",
   "execution_count": 24,
   "metadata": {
    "executionInfo": {
     "elapsed": 3203,
     "status": "ok",
     "timestamp": 1644634070654,
     "user": {
      "displayName": "Bhushan Garware",
      "photoUrl": "https://lh3.googleusercontent.com/a-/AOh14GjXuSog7Cx1rVSdt9aeNCrIxrJKLl3o6RA4rdXXlw=s64",
      "userId": "11429247748564512795"
     },
     "user_tz": -330
    },
    "id": "KFrt8cWjw5_7"
   },
   "outputs": [],
   "source": [
    "#Reading the dataset\n",
    "wiki = pd.read_csv('people_wiki.csv')\n"
   ]
  },
  {
   "cell_type": "code",
   "execution_count": 25,
   "metadata": {
    "colab": {
     "base_uri": "https://localhost:8080/",
     "height": 206
    },
    "executionInfo": {
     "elapsed": 16,
     "status": "ok",
     "timestamp": 1644634071966,
     "user": {
      "displayName": "Bhushan Garware",
      "photoUrl": "https://lh3.googleusercontent.com/a-/AOh14GjXuSog7Cx1rVSdt9aeNCrIxrJKLl3o6RA4rdXXlw=s64",
      "userId": "11429247748564512795"
     },
     "user_tz": -330
    },
    "id": "pCBQz-TGw_rh",
    "outputId": "89c1cace-6c31-41c9-fedf-2495df028a19"
   },
   "outputs": [
    {
     "data": {
      "text/html": [
       "\n",
       "  <div id=\"df-659163df-9db0-46ae-a0a6-93ede0de7543\">\n",
       "    <div class=\"colab-df-container\">\n",
       "      <div>\n",
       "<style scoped>\n",
       "    .dataframe tbody tr th:only-of-type {\n",
       "        vertical-align: middle;\n",
       "    }\n",
       "\n",
       "    .dataframe tbody tr th {\n",
       "        vertical-align: top;\n",
       "    }\n",
       "\n",
       "    .dataframe thead th {\n",
       "        text-align: right;\n",
       "    }\n",
       "</style>\n",
       "<table border=\"1\" class=\"dataframe\">\n",
       "  <thead>\n",
       "    <tr style=\"text-align: right;\">\n",
       "      <th></th>\n",
       "      <th>URI</th>\n",
       "      <th>name</th>\n",
       "      <th>text</th>\n",
       "    </tr>\n",
       "  </thead>\n",
       "  <tbody>\n",
       "    <tr>\n",
       "      <th>0</th>\n",
       "      <td>&lt;http://dbpedia.org/resource/Digby_Morrell&gt;</td>\n",
       "      <td>Digby Morrell</td>\n",
       "      <td>digby morrell born 10 october 1979 is a former...</td>\n",
       "    </tr>\n",
       "    <tr>\n",
       "      <th>1</th>\n",
       "      <td>&lt;http://dbpedia.org/resource/Alfred_J._Lewy&gt;</td>\n",
       "      <td>Alfred J. Lewy</td>\n",
       "      <td>alfred j lewy aka sandy lewy graduated from un...</td>\n",
       "    </tr>\n",
       "    <tr>\n",
       "      <th>2</th>\n",
       "      <td>&lt;http://dbpedia.org/resource/Harpdog_Brown&gt;</td>\n",
       "      <td>Harpdog Brown</td>\n",
       "      <td>harpdog brown is a singer and harmonica player...</td>\n",
       "    </tr>\n",
       "    <tr>\n",
       "      <th>3</th>\n",
       "      <td>&lt;http://dbpedia.org/resource/Franz_Rottensteiner&gt;</td>\n",
       "      <td>Franz Rottensteiner</td>\n",
       "      <td>franz rottensteiner born in waidmannsfeld lowe...</td>\n",
       "    </tr>\n",
       "    <tr>\n",
       "      <th>4</th>\n",
       "      <td>&lt;http://dbpedia.org/resource/G-Enka&gt;</td>\n",
       "      <td>G-Enka</td>\n",
       "      <td>henry krvits born 30 december 1974 in tallinn ...</td>\n",
       "    </tr>\n",
       "  </tbody>\n",
       "</table>\n",
       "</div>\n",
       "      <button class=\"colab-df-convert\" onclick=\"convertToInteractive('df-659163df-9db0-46ae-a0a6-93ede0de7543')\"\n",
       "              title=\"Convert this dataframe to an interactive table.\"\n",
       "              style=\"display:none;\">\n",
       "        \n",
       "  <svg xmlns=\"http://www.w3.org/2000/svg\" height=\"24px\"viewBox=\"0 0 24 24\"\n",
       "       width=\"24px\">\n",
       "    <path d=\"M0 0h24v24H0V0z\" fill=\"none\"/>\n",
       "    <path d=\"M18.56 5.44l.94 2.06.94-2.06 2.06-.94-2.06-.94-.94-2.06-.94 2.06-2.06.94zm-11 1L8.5 8.5l.94-2.06 2.06-.94-2.06-.94L8.5 2.5l-.94 2.06-2.06.94zm10 10l.94 2.06.94-2.06 2.06-.94-2.06-.94-.94-2.06-.94 2.06-2.06.94z\"/><path d=\"M17.41 7.96l-1.37-1.37c-.4-.4-.92-.59-1.43-.59-.52 0-1.04.2-1.43.59L10.3 9.45l-7.72 7.72c-.78.78-.78 2.05 0 2.83L4 21.41c.39.39.9.59 1.41.59.51 0 1.02-.2 1.41-.59l7.78-7.78 2.81-2.81c.8-.78.8-2.07 0-2.86zM5.41 20L4 18.59l7.72-7.72 1.47 1.35L5.41 20z\"/>\n",
       "  </svg>\n",
       "      </button>\n",
       "      \n",
       "  <style>\n",
       "    .colab-df-container {\n",
       "      display:flex;\n",
       "      flex-wrap:wrap;\n",
       "      gap: 12px;\n",
       "    }\n",
       "\n",
       "    .colab-df-convert {\n",
       "      background-color: #E8F0FE;\n",
       "      border: none;\n",
       "      border-radius: 50%;\n",
       "      cursor: pointer;\n",
       "      display: none;\n",
       "      fill: #1967D2;\n",
       "      height: 32px;\n",
       "      padding: 0 0 0 0;\n",
       "      width: 32px;\n",
       "    }\n",
       "\n",
       "    .colab-df-convert:hover {\n",
       "      background-color: #E2EBFA;\n",
       "      box-shadow: 0px 1px 2px rgba(60, 64, 67, 0.3), 0px 1px 3px 1px rgba(60, 64, 67, 0.15);\n",
       "      fill: #174EA6;\n",
       "    }\n",
       "\n",
       "    [theme=dark] .colab-df-convert {\n",
       "      background-color: #3B4455;\n",
       "      fill: #D2E3FC;\n",
       "    }\n",
       "\n",
       "    [theme=dark] .colab-df-convert:hover {\n",
       "      background-color: #434B5C;\n",
       "      box-shadow: 0px 1px 3px 1px rgba(0, 0, 0, 0.15);\n",
       "      filter: drop-shadow(0px 1px 2px rgba(0, 0, 0, 0.3));\n",
       "      fill: #FFFFFF;\n",
       "    }\n",
       "  </style>\n",
       "\n",
       "      <script>\n",
       "        const buttonEl =\n",
       "          document.querySelector('#df-659163df-9db0-46ae-a0a6-93ede0de7543 button.colab-df-convert');\n",
       "        buttonEl.style.display =\n",
       "          google.colab.kernel.accessAllowed ? 'block' : 'none';\n",
       "\n",
       "        async function convertToInteractive(key) {\n",
       "          const element = document.querySelector('#df-659163df-9db0-46ae-a0a6-93ede0de7543');\n",
       "          const dataTable =\n",
       "            await google.colab.kernel.invokeFunction('convertToInteractive',\n",
       "                                                     [key], {});\n",
       "          if (!dataTable) return;\n",
       "\n",
       "          const docLinkHtml = 'Like what you see? Visit the ' +\n",
       "            '<a target=\"_blank\" href=https://colab.research.google.com/notebooks/data_table.ipynb>data table notebook</a>'\n",
       "            + ' to learn more about interactive tables.';\n",
       "          element.innerHTML = '';\n",
       "          dataTable['output_type'] = 'display_data';\n",
       "          await google.colab.output.renderOutput(dataTable, element);\n",
       "          const docLink = document.createElement('div');\n",
       "          docLink.innerHTML = docLinkHtml;\n",
       "          element.appendChild(docLink);\n",
       "        }\n",
       "      </script>\n",
       "    </div>\n",
       "  </div>\n",
       "  "
      ],
      "text/plain": [
       "                                                 URI  ...                                               text\n",
       "0        <http://dbpedia.org/resource/Digby_Morrell>  ...  digby morrell born 10 october 1979 is a former...\n",
       "1       <http://dbpedia.org/resource/Alfred_J._Lewy>  ...  alfred j lewy aka sandy lewy graduated from un...\n",
       "2        <http://dbpedia.org/resource/Harpdog_Brown>  ...  harpdog brown is a singer and harmonica player...\n",
       "3  <http://dbpedia.org/resource/Franz_Rottensteiner>  ...  franz rottensteiner born in waidmannsfeld lowe...\n",
       "4               <http://dbpedia.org/resource/G-Enka>  ...  henry krvits born 30 december 1974 in tallinn ...\n",
       "\n",
       "[5 rows x 3 columns]"
      ]
     },
     "execution_count": 25,
     "metadata": {},
     "output_type": "execute_result"
    }
   ],
   "source": [
    "wiki.head()"
   ]
  },
  {
   "cell_type": "code",
   "execution_count": 26,
   "metadata": {
    "executionInfo": {
     "elapsed": 18394,
     "status": "ok",
     "timestamp": 1644634093565,
     "user": {
      "displayName": "Bhushan Garware",
      "photoUrl": "https://lh3.googleusercontent.com/a-/AOh14GjXuSog7Cx1rVSdt9aeNCrIxrJKLl3o6RA4rdXXlw=s64",
      "userId": "11429247748564512795"
     },
     "user_tz": -330
    },
    "id": "cxmQLF9cxLX_"
   },
   "outputs": [],
   "source": [
    "#Counting the frequency of occurance of each word\n",
    "count_vector = CountVectorizer()\n",
    "train_counts = count_vector.fit_transform(wiki.text)"
   ]
  },
  {
   "cell_type": "code",
   "execution_count": null,
   "metadata": {
    "id": "5psomIXhxYps"
   },
   "outputs": [],
   "source": [
    "#Using tf-idf to reduce the weight of common words\n",
    "tfidf_transform = TfidfTransformer()\n",
    "train_tfidf = tfidf_transform.fit_transform(train_counts)\n",
    "a = np.array(train_tfidf.toarray())"
   ]
  },
  {
   "cell_type": "code",
   "execution_count": null,
   "metadata": {
    "id": "OOWX2397zh4S"
   },
   "outputs": [],
   "source": []
  },
  {
   "cell_type": "markdown",
   "metadata": {
    "id": "PynDQLlX1Ufg"
   },
   "source": [
    "## Load Smaller Dataset "
   ]
  },
  {
   "cell_type": "code",
   "execution_count": 5,
   "metadata": {
    "executionInfo": {
     "elapsed": 469,
     "status": "ok",
     "timestamp": 1644634201910,
     "user": {
      "displayName": "Bhushan Garware",
      "photoUrl": "https://lh3.googleusercontent.com/a-/AOh14GjXuSog7Cx1rVSdt9aeNCrIxrJKLl3o6RA4rdXXlw=s64",
      "userId": "11429247748564512795"
     },
     "user_tz": -330
    },
    "id": "WqloMW681YoW"
   },
   "outputs": [],
   "source": [
    "#Reading the dataset\n",
    "person = pd.read_csv('famous_people.csv')"
   ]
  },
  {
   "cell_type": "code",
   "execution_count": 6,
   "metadata": {
    "colab": {
     "base_uri": "https://localhost:8080/",
     "height": 206
    },
    "executionInfo": {
     "elapsed": 567,
     "status": "ok",
     "timestamp": 1644634213095,
     "user": {
      "displayName": "Bhushan Garware",
      "photoUrl": "https://lh3.googleusercontent.com/a-/AOh14GjXuSog7Cx1rVSdt9aeNCrIxrJKLl3o6RA4rdXXlw=s64",
      "userId": "11429247748564512795"
     },
     "user_tz": -330
    },
    "id": "YRKg8eLj1gf6",
    "outputId": "49e5977f-f34d-4a6a-e8f2-552276665977"
   },
   "outputs": [
    {
     "data": {
      "text/html": [
       "\n",
       "  <div id=\"df-282be73c-d150-40c6-95ef-590845c85ec4\">\n",
       "    <div class=\"colab-df-container\">\n",
       "      <div>\n",
       "<style scoped>\n",
       "    .dataframe tbody tr th:only-of-type {\n",
       "        vertical-align: middle;\n",
       "    }\n",
       "\n",
       "    .dataframe tbody tr th {\n",
       "        vertical-align: top;\n",
       "    }\n",
       "\n",
       "    .dataframe thead th {\n",
       "        text-align: right;\n",
       "    }\n",
       "</style>\n",
       "<table border=\"1\" class=\"dataframe\">\n",
       "  <thead>\n",
       "    <tr style=\"text-align: right;\">\n",
       "      <th></th>\n",
       "      <th>Sno</th>\n",
       "      <th>URI</th>\n",
       "      <th>Name</th>\n",
       "      <th>Text</th>\n",
       "    </tr>\n",
       "  </thead>\n",
       "  <tbody>\n",
       "    <tr>\n",
       "      <th>0</th>\n",
       "      <td>1</td>\n",
       "      <td>https://en.wikipedia.org/wiki/Narendra_Modi</td>\n",
       "      <td>Narendra Modi</td>\n",
       "      <td>Narendra Damodardas Modi (Gujarati pronunciati...</td>\n",
       "    </tr>\n",
       "    <tr>\n",
       "      <th>1</th>\n",
       "      <td>2</td>\n",
       "      <td>https://en.wikipedia.org/wiki/Sania_Mirza</td>\n",
       "      <td>Sania Mirza</td>\n",
       "      <td>Sania Mirza (Hindustani pronunciation: [ˈsaːnɪ...</td>\n",
       "    </tr>\n",
       "    <tr>\n",
       "      <th>2</th>\n",
       "      <td>3</td>\n",
       "      <td>https://en.wikipedia.org/wiki/Virat_Kohli</td>\n",
       "      <td>Virat Kohli</td>\n",
       "      <td>Virat Kohli (About this soundpronunciation (he...</td>\n",
       "    </tr>\n",
       "    <tr>\n",
       "      <th>3</th>\n",
       "      <td>4</td>\n",
       "      <td>https://en.wikipedia.org/wiki/Miley_Cyrus</td>\n",
       "      <td>Miley Cyrus</td>\n",
       "      <td>Miley Ray Cyrus (born Destiny Hope Cyrus; Nove...</td>\n",
       "    </tr>\n",
       "    <tr>\n",
       "      <th>4</th>\n",
       "      <td>5</td>\n",
       "      <td>https://en.wikipedia.org/wiki/Leonardo_DiCaprio</td>\n",
       "      <td>Leonardo DiCaprio</td>\n",
       "      <td>Leonardo Wilhelm DiCaprio (/dɪˈkæprioʊ/, Itali...</td>\n",
       "    </tr>\n",
       "  </tbody>\n",
       "</table>\n",
       "</div>\n",
       "      <button class=\"colab-df-convert\" onclick=\"convertToInteractive('df-282be73c-d150-40c6-95ef-590845c85ec4')\"\n",
       "              title=\"Convert this dataframe to an interactive table.\"\n",
       "              style=\"display:none;\">\n",
       "        \n",
       "  <svg xmlns=\"http://www.w3.org/2000/svg\" height=\"24px\"viewBox=\"0 0 24 24\"\n",
       "       width=\"24px\">\n",
       "    <path d=\"M0 0h24v24H0V0z\" fill=\"none\"/>\n",
       "    <path d=\"M18.56 5.44l.94 2.06.94-2.06 2.06-.94-2.06-.94-.94-2.06-.94 2.06-2.06.94zm-11 1L8.5 8.5l.94-2.06 2.06-.94-2.06-.94L8.5 2.5l-.94 2.06-2.06.94zm10 10l.94 2.06.94-2.06 2.06-.94-2.06-.94-.94-2.06-.94 2.06-2.06.94z\"/><path d=\"M17.41 7.96l-1.37-1.37c-.4-.4-.92-.59-1.43-.59-.52 0-1.04.2-1.43.59L10.3 9.45l-7.72 7.72c-.78.78-.78 2.05 0 2.83L4 21.41c.39.39.9.59 1.41.59.51 0 1.02-.2 1.41-.59l7.78-7.78 2.81-2.81c.8-.78.8-2.07 0-2.86zM5.41 20L4 18.59l7.72-7.72 1.47 1.35L5.41 20z\"/>\n",
       "  </svg>\n",
       "      </button>\n",
       "      \n",
       "  <style>\n",
       "    .colab-df-container {\n",
       "      display:flex;\n",
       "      flex-wrap:wrap;\n",
       "      gap: 12px;\n",
       "    }\n",
       "\n",
       "    .colab-df-convert {\n",
       "      background-color: #E8F0FE;\n",
       "      border: none;\n",
       "      border-radius: 50%;\n",
       "      cursor: pointer;\n",
       "      display: none;\n",
       "      fill: #1967D2;\n",
       "      height: 32px;\n",
       "      padding: 0 0 0 0;\n",
       "      width: 32px;\n",
       "    }\n",
       "\n",
       "    .colab-df-convert:hover {\n",
       "      background-color: #E2EBFA;\n",
       "      box-shadow: 0px 1px 2px rgba(60, 64, 67, 0.3), 0px 1px 3px 1px rgba(60, 64, 67, 0.15);\n",
       "      fill: #174EA6;\n",
       "    }\n",
       "\n",
       "    [theme=dark] .colab-df-convert {\n",
       "      background-color: #3B4455;\n",
       "      fill: #D2E3FC;\n",
       "    }\n",
       "\n",
       "    [theme=dark] .colab-df-convert:hover {\n",
       "      background-color: #434B5C;\n",
       "      box-shadow: 0px 1px 3px 1px rgba(0, 0, 0, 0.15);\n",
       "      filter: drop-shadow(0px 1px 2px rgba(0, 0, 0, 0.3));\n",
       "      fill: #FFFFFF;\n",
       "    }\n",
       "  </style>\n",
       "\n",
       "      <script>\n",
       "        const buttonEl =\n",
       "          document.querySelector('#df-282be73c-d150-40c6-95ef-590845c85ec4 button.colab-df-convert');\n",
       "        buttonEl.style.display =\n",
       "          google.colab.kernel.accessAllowed ? 'block' : 'none';\n",
       "\n",
       "        async function convertToInteractive(key) {\n",
       "          const element = document.querySelector('#df-282be73c-d150-40c6-95ef-590845c85ec4');\n",
       "          const dataTable =\n",
       "            await google.colab.kernel.invokeFunction('convertToInteractive',\n",
       "                                                     [key], {});\n",
       "          if (!dataTable) return;\n",
       "\n",
       "          const docLinkHtml = 'Like what you see? Visit the ' +\n",
       "            '<a target=\"_blank\" href=https://colab.research.google.com/notebooks/data_table.ipynb>data table notebook</a>'\n",
       "            + ' to learn more about interactive tables.';\n",
       "          element.innerHTML = '';\n",
       "          dataTable['output_type'] = 'display_data';\n",
       "          await google.colab.output.renderOutput(dataTable, element);\n",
       "          const docLink = document.createElement('div');\n",
       "          docLink.innerHTML = docLinkHtml;\n",
       "          element.appendChild(docLink);\n",
       "        }\n",
       "      </script>\n",
       "    </div>\n",
       "  </div>\n",
       "  "
      ],
      "text/plain": [
       "   Sno  ...                                               Text\n",
       "0    1  ...  Narendra Damodardas Modi (Gujarati pronunciati...\n",
       "1    2  ...  Sania Mirza (Hindustani pronunciation: [ˈsaːnɪ...\n",
       "2    3  ...  Virat Kohli (About this soundpronunciation (he...\n",
       "3    4  ...  Miley Ray Cyrus (born Destiny Hope Cyrus; Nove...\n",
       "4    5  ...  Leonardo Wilhelm DiCaprio (/dɪˈkæprioʊ/, Itali...\n",
       "\n",
       "[5 rows x 4 columns]"
      ]
     },
     "execution_count": 6,
     "metadata": {},
     "output_type": "execute_result"
    }
   ],
   "source": [
    "person.head()"
   ]
  },
  {
   "cell_type": "code",
   "execution_count": 7,
   "metadata": {
    "executionInfo": {
     "elapsed": 506,
     "status": "ok",
     "timestamp": 1644634238033,
     "user": {
      "displayName": "Bhushan Garware",
      "photoUrl": "https://lh3.googleusercontent.com/a-/AOh14GjXuSog7Cx1rVSdt9aeNCrIxrJKLl3o6RA4rdXXlw=s64",
      "userId": "11429247748564512795"
     },
     "user_tz": -330
    },
    "id": "HFFALBO71oYJ"
   },
   "outputs": [],
   "source": [
    "#Counting the frequency of occurance of each word\n",
    "count_vector = CountVectorizer()\n",
    "train_counts = count_vector.fit_transform(person.Text)#Counting the frequency of occurance of each word\n",
    "count_vector = CountVectorizer()\n",
    "train_counts = count_vector.fit_transform(person.Text)"
   ]
  },
  {
   "cell_type": "code",
   "execution_count": 8,
   "metadata": {
    "executionInfo": {
     "elapsed": 486,
     "status": "ok",
     "timestamp": 1644634251551,
     "user": {
      "displayName": "Bhushan Garware",
      "photoUrl": "https://lh3.googleusercontent.com/a-/AOh14GjXuSog7Cx1rVSdt9aeNCrIxrJKLl3o6RA4rdXXlw=s64",
      "userId": "11429247748564512795"
     },
     "user_tz": -330
    },
    "id": "GgkKMEty1uYm"
   },
   "outputs": [],
   "source": [
    "#Using tf-idf to reduce the weight of common words\n",
    "tfidf_transform = TfidfTransformer()\n",
    "train_tfidf = tfidf_transform.fit_transform(train_counts)\n",
    "a = np.array(train_tfidf.toarray())"
   ]
  },
  {
   "cell_type": "code",
   "execution_count": 9,
   "metadata": {
    "executionInfo": {
     "elapsed": 458,
     "status": "ok",
     "timestamp": 1644634262355,
     "user": {
      "displayName": "Bhushan Garware",
      "photoUrl": "https://lh3.googleusercontent.com/a-/AOh14GjXuSog7Cx1rVSdt9aeNCrIxrJKLl3o6RA4rdXXlw=s64",
      "userId": "11429247748564512795"
     },
     "user_tz": -330
    },
    "id": "uM6bh-sb1xs4"
   },
   "outputs": [],
   "source": [
    "#obtaining the KDTree\n",
    "kdtree = KDTree(a ,leaf_size=3)"
   ]
  },
  {
   "cell_type": "code",
   "execution_count": 10,
   "metadata": {
    "colab": {
     "base_uri": "https://localhost:8080/"
    },
    "executionInfo": {
     "elapsed": 18707,
     "status": "ok",
     "timestamp": 1644634294226,
     "user": {
      "displayName": "Bhushan Garware",
      "photoUrl": "https://lh3.googleusercontent.com/a-/AOh14GjXuSog7Cx1rVSdt9aeNCrIxrJKLl3o6RA4rdXXlw=s64",
      "userId": "11429247748564512795"
     },
     "user_tz": -330
    },
    "id": "Y5Kb3KCT10XE",
    "outputId": "a4d84f15-b721-459d-840a-ea3cc1ad754e"
   },
   "outputs": [
    {
     "name": "stdout",
     "output_type": "stream",
     "text": [
      "Enter the name of the Person:- MS Dhoni\n"
     ]
    }
   ],
   "source": [
    "#take the name of the personality as input\n",
    "person_name=input(\"Enter the name of the Person:- \")"
   ]
  },
  {
   "cell_type": "code",
   "execution_count": 11,
   "metadata": {
    "colab": {
     "base_uri": "https://localhost:8080/"
    },
    "executionInfo": {
     "elapsed": 457,
     "status": "ok",
     "timestamp": 1644634314323,
     "user": {
      "displayName": "Bhushan Garware",
      "photoUrl": "https://lh3.googleusercontent.com/a-/AOh14GjXuSog7Cx1rVSdt9aeNCrIxrJKLl3o6RA4rdXXlw=s64",
      "userId": "11429247748564512795"
     },
     "user_tz": -330
    },
    "id": "LA0O7LbM13mP",
    "outputId": "edc3563e-b5b2-4888-b722-87c2c5e13305"
   },
   "outputs": [
    {
     "name": "stdout",
     "output_type": "stream",
     "text": [
      "Name : MS Dhoni\n",
      "Distance : 0.0\n",
      "URI : https://en.wikipedia.org/wiki/MS_Dhoni\n",
      "Name : Virat Kohli\n",
      "Distance : 0.8497822049958499\n",
      "URI : https://en.wikipedia.org/wiki/Virat_Kohli\n",
      "Name : Yuvraj Singh\n",
      "Distance : 0.9684791160176293\n",
      "URI : https://en.wikipedia.org/wiki/Yuvraj_Singh\n"
     ]
    }
   ],
   "source": [
    "#Using KDTree to get K articles similar to the given name\n",
    "person['tfidf']=list(train_tfidf.toarray())\n",
    "distance, idx = kdtree.query(person['tfidf'][person['Name']== person_name].tolist(), k=3)\n",
    "for i, value in list(enumerate(idx[0])):\n",
    "    print(\"Name : {}\".format(person['Name'][value]))\n",
    "    print(\"Distance : {}\".format(distance[0][i]))\n",
    "    print(\"URI : {}\".format(person['URI'][value]))"
   ]
  },
  {
   "cell_type": "code",
   "execution_count": null,
   "metadata": {
    "id": "I0mJsWnP2BAZ"
   },
   "outputs": [],
   "source": []
  }
 ],
 "metadata": {
  "colab": {
   "authorship_tag": "ABX9TyOwnafmzrLSpwIf56VQ8gV/",
   "collapsed_sections": [],
   "name": "KDD Scikit.ipynb",
   "provenance": []
  },
  "kernelspec": {
   "display_name": "Python 3",
   "language": "python",
   "name": "python3"
  },
  "language_info": {
   "codemirror_mode": {
    "name": "ipython",
    "version": 3
   },
   "file_extension": ".py",
   "mimetype": "text/x-python",
   "name": "python",
   "nbconvert_exporter": "python",
   "pygments_lexer": "ipython3",
   "version": "3.9.5"
  }
 },
 "nbformat": 4,
 "nbformat_minor": 1
}
